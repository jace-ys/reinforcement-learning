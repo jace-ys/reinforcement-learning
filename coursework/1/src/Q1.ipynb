{
 "cells": [
  {
   "cell_type": "code",
   "execution_count": 5,
   "metadata": {},
   "outputs": [
    {
     "output_type": "stream",
     "name": "stdout",
     "text": [
      "The observed trace of states and rewards: s3 1 s2 0 s3 1 s3 1 s1 3 s2 0 s3 1 "
     ]
    }
   ],
   "source": [
    "CID = \"1055349\"\n",
    "\n",
    "states = []\n",
    "rewards = []\n",
    "\n",
    "for digit in CID:\n",
    "    states.append((int(digit) + 2) % 4)\n",
    "    rewards.append(int(digit) % 4)\n",
    "\n",
    "print(\"The observed trace of states and rewards:\", end=\" \")\n",
    "for idx, value in enumerate(states):\n",
    "    print(f\"s{value}\", end=\" \")\n",
    "    print(rewards[idx], end=\" \")"
   ]
  },
  {
   "cell_type": "code",
   "execution_count": 6,
   "metadata": {},
   "outputs": [
    {
     "output_type": "stream",
     "name": "stdout",
     "text": [
      "The estimated value of the first state (s3) in the trace: 1\n"
     ]
    }
   ],
   "source": [
    "V = [0, 0, 0, 0]\n",
    "alpha = 1\n",
    "gamma = 1\n",
    "\n",
    "for i in range(len(states)-1):\n",
    "    current = states[i]\n",
    "    next = states[i+1]\n",
    "    reward = rewards[i]\n",
    "    V[current] += alpha * (reward + gamma * V[next] - V[current])\n",
    "\n",
    "first = states[0]\n",
    "print(f\"The estimated value of the first state (s{first}) in the trace: {V[first]}\")"
   ]
  },
  {
   "cell_type": "code",
   "execution_count": null,
   "metadata": {},
   "outputs": [],
   "source": []
  }
 ],
 "metadata": {
  "kernelspec": {
   "display_name": "Python 3",
   "language": "python",
   "name": "python3"
  },
  "language_info": {
   "codemirror_mode": {
    "name": "ipython",
    "version": 3
   },
   "file_extension": ".py",
   "mimetype": "text/x-python",
   "name": "python",
   "nbconvert_exporter": "python",
   "pygments_lexer": "ipython3",
   "version": "3.8.5-final"
  }
 },
 "nbformat": 4,
 "nbformat_minor": 4
}